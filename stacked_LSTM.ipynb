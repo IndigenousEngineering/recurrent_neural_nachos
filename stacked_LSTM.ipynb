{
 "cells": [
  {
   "cell_type": "markdown",
   "metadata": {},
   "source": [
    "# stacked LSTMs\n",
    "\n",
    "LSTMs look for sequential data, in 3 dimensions: __samples__, __time steps__, & __features__, in that order.\n",
    "\n",
    "however, with keras ```LSTM()``` default parameters, LSTMs output only a single value (after their multiple time steps).\n",
    "\n",
    "to remedy this, we can set the ```return_sequences``` parameter to ```True```, and our LSTMs will output one value per time step--a 3D array __sequence__ we can feed into the next LSTM layer."
   ]
  },
  {
   "cell_type": "code",
   "execution_count": 2,
   "metadata": {},
   "outputs": [
    {
     "name": "stderr",
     "output_type": "stream",
     "text": [
      "Using TensorFlow backend.\n"
     ]
    }
   ],
   "source": [
    "# imports\n",
    "\n",
    "from keras.models import Sequential\n",
    "from keras.layers import LSTM\n",
    "from numpy import array"
   ]
  },
  {
   "cell_type": "markdown",
   "metadata": {},
   "source": [
    "#### two-dimensional, single-value output\n",
    "\n",
    "here's an example of an LSTM output of a single value, in the form of a 2D array:"
   ]
  },
  {
   "cell_type": "code",
   "execution_count": 25,
   "metadata": {},
   "outputs": [],
   "source": [
    "# initialize model\n",
    "\n",
    "default_lstm = Sequential()\n",
    "\n",
    "# design model\n",
    "\n",
    "default_lstm.add(LSTM(1, input_shape=(5, 1)))\n",
    "\n",
    "# compile model\n",
    "\n",
    "default_lstm.compile(optimizer='adam', loss='mse')\n"
   ]
  },
  {
   "cell_type": "markdown",
   "metadata": {},
   "source": [
    "the ```default_lstm``` model above takes as input:\n",
    "\n",
    "* 1 memory cell\n",
    "* 5 time steps\n",
    "* 1 feature\n",
    "\n",
    "to calculate loss and minimize the error, ```default_lstm``` uses:\n",
    "\n",
    "* __ mean squared erorr__ ('mse') *loss function*\n",
    "* __adam__ gradient descent as its *optimizer*\n",
    "\n",
    "let's generate some data:"
   ]
  },
  {
   "cell_type": "code",
   "execution_count": 28,
   "metadata": {},
   "outputs": [],
   "source": [
    "# create data then reshape() into 3d array\n",
    "\n",
    "data = array([0.1, 0.2, 0.3, 0.4, 0.5]).reshape((1, 5, 1))"
   ]
  },
  {
   "cell_type": "markdown",
   "metadata": {},
   "source": [
    "get predictions:"
   ]
  },
  {
   "cell_type": "code",
   "execution_count": 29,
   "metadata": {},
   "outputs": [
    {
     "name": "stdout",
     "output_type": "stream",
     "text": [
      "[[-0.13126174]]\n"
     ]
    }
   ],
   "source": [
    "preds = default_lstm.predict(data)\n",
    "\n",
    "print(preds)"
   ]
  },
  {
   "cell_type": "markdown",
   "metadata": {},
   "source": [
    "this run of our ```default_lstm``` model produced the value -0.13126174, outputting it as a 2d array:\n",
    "\n",
    "```[[-0.13126174]]```\n",
    "\n",
    "*note: LSTMs are stochastic, so if i run this again, it may produce a different result...but that result will still be a single value in a 2d array.*\n",
    "\n",
    "we need a __sequence__ of values, returned as a 3d array so that it can be fed into a hypothetical next LSTM layer.\n",
    "\n",
    "now we'll set ```output_sequences=True``` to get one output for each time step, as an array that's ready for another LSTM layer:"
   ]
  },
  {
   "cell_type": "code",
   "execution_count": 30,
   "metadata": {},
   "outputs": [
    {
     "name": "stdout",
     "output_type": "stream",
     "text": [
      "[[[ 0.00361657]\n",
      "  [ 0.00901196]\n",
      "  [ 0.01538688]\n",
      "  [ 0.02239283]\n",
      "  [ 0.02988665]]]\n"
     ]
    }
   ],
   "source": [
    "seq_model = Sequential()\n",
    "\n",
    "seq_model.add(LSTM(1, return_sequences=True, input_shape=(5, 1)))\n",
    "\n",
    "seq_model.compile(optimizer='adam', loss='mse')\n",
    "\n",
    "print(seq_model.predict(data))"
   ]
  },
  {
   "cell_type": "markdown",
   "metadata": {},
   "source": [
    "sweet! our ```seq_model``` outputs a 3d array of values, one for each time step, i.e. one per each input value."
   ]
  },
  {
   "cell_type": "markdown",
   "metadata": {},
   "source": [
    "### damped sine wave problem\n",
    "\n",
    "*(sine wave generation & plotting code from jason brownlee's excellent course on LSTMs at machinelearningmastery.com)*\n",
    "\n",
    "a [damped sine wave](https://en.wikipedia.org/wiki/Damped_sine_wave \"damped sine wave\") is a sine wave whose amplitude is gradually decreasing (approaching zero).\n",
    "\n",
    "we'd like to see whether an LSTM trained on an earlier part of the wave can predict the dampening.\n",
    "\n",
    "after all, a sine wave is really just another sequence of values, right?"
   ]
  },
  {
   "cell_type": "code",
   "execution_count": 32,
   "metadata": {},
   "outputs": [],
   "source": [
    "from math import sin\n",
    "from math import pi\n",
    "from matplotlib import pyplot\n",
    "%matplotlib inline"
   ]
  },
  {
   "cell_type": "markdown",
   "metadata": {},
   "source": [
    "here's what a regular sine wave looks like:"
   ]
  },
  {
   "cell_type": "code",
   "execution_count": 38,
   "metadata": {},
   "outputs": [
    {
     "data": {
      "text/plain": [
       "[<matplotlib.lines.Line2D at 0x7f2604181358>]"
      ]
     },
     "execution_count": 38,
     "metadata": {},
     "output_type": "execute_result"
    },
    {
     "data": {
      "image/png": "[encoded data removed]",
      "text/plain": [
       "<matplotlib.figure.Figure at 0x7f26041aee80>"
      ]
     },
     "metadata": {},
     "output_type": "display_data"
    }
   ],
   "source": [
    "# create sine wave sequence\n",
    "\n",
    "length = 100\n",
    "freq = 5\n",
    "seq = [sin(2 * pi * freq * (i/float(length))) for i in range(length)]\n",
    "\n",
    "# plot sequence\n",
    "\n",
    "pyplot.plot(seq)"
   ]
  },
  {
   "cell_type": "markdown",
   "metadata": {},
   "source": [
    "here's a sine wave whose amplitude is gradually approaching zero--a __damped__ sine wave:"
   ]
  },
  {
   "cell_type": "code",
   "execution_count": 43,
   "metadata": {},
   "outputs": [
    {
     "data": {
      "text/plain": [
       "[<matplotlib.lines.Line2D at 0x7f258e4acbe0>]"
      ]
     },
     "execution_count": 43,
     "metadata": {},
     "output_type": "execute_result"
    },
    {
     "data": {
      "image/png": "[encoded data removed]",
      "text/plain": [
       "<matplotlib.figure.Figure at 0x7f258e4e2940>"
      ]
     },
     "metadata": {},
     "output_type": "display_data"
    }
   ],
   "source": [
    "from math import exp\n",
    "\n",
    "damped_length = 100\n",
    "period = 10\n",
    "decay = 0.05\n",
    "\n",
    "# create sequence\n",
    "\n",
    "damped_seq = [0.5 + 0.5 * sin(2 * pi * i / period) * exp(-decay * i) \n",
    "              for i in range(length)]\n",
    "\n",
    "# plot sequence\n",
    "\n",
    "pyplot.plot(damped_seq)"
   ]
  },
  {
   "cell_type": "code",
   "execution_count": null,
   "metadata": {},
   "outputs": [],
   "source": []
  }
 ],
 "metadata": {
  "kernelspec": {
   "display_name": "Python 3",
   "language": "python",
   "name": "python3"
  },
  "language_info": {
   "codemirror_mode": {
    "name": "ipython",
    "version": 3
   },
   "file_extension": ".py",
   "mimetype": "text/x-python",
   "name": "python",
   "nbconvert_exporter": "python",
   "pygments_lexer": "ipython3",
   "version": "3.5.3"
  }
 },
 "nbformat": 4,
 "nbformat_minor": 2
}
