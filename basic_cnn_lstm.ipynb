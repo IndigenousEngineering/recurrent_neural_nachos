{
 "cells": [
  {
   "cell_type": "markdown",
   "metadata": {},
   "source": [
    "# basic cnn lstm model design\n",
    "\n",
    "CNN LSTM models have more than one specific type of a \"depth\" they bring to bear on a given problem.\n",
    "\n",
    "first, CNN LSTMs have a *depth of time*: think [back propogation through time (BPTT)](https://en.wikipedia.org/wiki/Backpropagation_through_time \"back propogation through time\") and/or truncated back propogation through time (TBPTT).\n",
    "\n",
    "CNN LSTM models also have a *depth of space*, with their multiple layers--convolutional, pooling, lstm etc--creating a deep, highly specialized and memory-persistent network.\n",
    "\n",
    ">*[CNN LSTMs are] a class of models that is both spatially and temporally deep,\n",
    "and has the flexibility to be applied to a variety of vision tasks involving sequential\n",
    "inputs and outputs*\n",
    ">\n",
    ">— Long-term Recurrent Convolutional Networks for Visual Recognition and Description, 2015\n",
    "\n",
    "in CNN LSTM architecture, convolutional neural networks act as encoders, effectively translating visual imagery into vector space--such that an LSTM RNN can effectively process it.\n",
    "\n",
    "CNNs \"in the wild\" (as it were) are usually designed to process a single image at a time. however, with a few adjustments they can provide effective encoding for visual time sequence data--like video.\n",
    "\n",
    "of course, time series problems are perfect for cells with longer-term \"memory\", like LSTMs.\n",
    "\n",
    "in this notebook, we'll use a visual time series problem--specifically, the task of captioning a simple video--to illustrate the `keras` api for CNN LSTM model design."
   ]
  },
  {
   "cell_type": "code",
   "execution_count": null,
   "metadata": {},
   "outputs": [],
   "source": []
  }
 ],
 "metadata": {
  "kernelspec": {
   "display_name": "Python 3",
   "language": "python",
   "name": "python3"
  },
  "language_info": {
   "codemirror_mode": {
    "name": "ipython",
    "version": 3
   },
   "file_extension": ".py",
   "mimetype": "text/x-python",
   "name": "python",
   "nbconvert_exporter": "python",
   "pygments_lexer": "ipython3",
   "version": "3.5.3"
  }
 },
 "nbformat": 4,
 "nbformat_minor": 2
}
