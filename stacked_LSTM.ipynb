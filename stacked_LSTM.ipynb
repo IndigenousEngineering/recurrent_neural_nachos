{
 "cells": [
  {
   "cell_type": "markdown",
   "metadata": {},
   "source": [
    "# stacked LSTMs\n",
    "\n",
    "LSTMs look for sequential data, in 3 dimensions: __samples__, __time steps__, & __features__, in that order.\n",
    "\n",
    "however, with keras ```LSTM()``` default parameters, LSTMs output only a single value (after their multiple time steps).\n",
    "\n",
    "to remedy this, we can set the ```return_sequences``` parameter to ```True```, and our LSTMs will output one value per time step--a 3D array __sequence__ we can feed into the next LSTM layer."
   ]
  },
  {
   "cell_type": "code",
   "execution_count": 8,
   "metadata": {},
   "outputs": [
    {
     "name": "stderr",
     "output_type": "stream",
     "text": [
      "Using TensorFlow backend.\n"
     ]
    }
   ],
   "source": [
    "# imports\n",
    "\n",
    "from keras.models import Sequential\n",
    "from keras.layers import LSTM\n",
    "from numpy import array"
   ]
  },
  {
   "cell_type": "markdown",
   "metadata": {},
   "source": [
    "#### two-dimensional, single-value output\n",
    "\n",
    "here's an example of an LSTM output of a single value, in the form of a 2D array:"
   ]
  },
  {
   "cell_type": "code",
   "execution_count": 9,
   "metadata": {},
   "outputs": [],
   "source": [
    "# initialize model\n",
    "\n",
    "default_lstm = Sequential()\n",
    "\n",
    "# design model\n",
    "\n",
    "default_lstm.add(LSTM(1, input_shape=(5, 1)))\n",
    "\n",
    "# compile model\n",
    "\n",
    "default_lstm.compile(optimizer='adam', loss='mse')\n"
   ]
  },
  {
   "cell_type": "markdown",
   "metadata": {},
   "source": [
    "the ```default_lstm``` model above takes as input:\n",
    "\n",
    "* 1 memory cell\n",
    "* 5 time steps\n",
    "* 1 feature\n",
    "\n",
    "to calculate loss and minimize the error, ```default_lstm``` uses:\n",
    "\n",
    "* __ mean squared erorr__ ('mse') *loss function*\n",
    "* __adam__ gradient descent as its *optimizer*\n",
    "\n",
    "let's generate some data:"
   ]
  },
  {
   "cell_type": "code",
   "execution_count": 10,
   "metadata": {},
   "outputs": [],
   "source": [
    "# create data then reshape() into 3d array\n",
    "\n",
    "data = array([0.1, 0.2, 0.3, 0.4, 0.5]).reshape((1, 5, 1))"
   ]
  },
  {
   "cell_type": "markdown",
   "metadata": {},
   "source": [
    "get predictions:"
   ]
  },
  {
   "cell_type": "code",
   "execution_count": 11,
   "metadata": {},
   "outputs": [
    {
     "name": "stdout",
     "output_type": "stream",
     "text": [
      "[[ 0.02344332]]\n"
     ]
    }
   ],
   "source": [
    "preds = default_lstm.predict(data)\n",
    "\n",
    "print(preds)"
   ]
  },
  {
   "cell_type": "markdown",
   "metadata": {},
   "source": [
    "this run of our ```default_lstm``` model produced the value -0.13126174, outputting it as a 2d array:\n",
    "\n",
    "```[[-0.13126174]]```\n",
    "\n",
    "*note: LSTMs are stochastic, so if i run this again, it may produce a different result...but that result will still be a single value in a 2d array.*\n",
    "\n",
    "we need a __sequence__ of values, returned as a 3d array so that it can be fed into a hypothetical next LSTM layer.\n",
    "\n",
    "now we'll set ```output_sequences=True``` to get one output for each time step, as an array that's ready for another LSTM layer:"
   ]
  },
  {
   "cell_type": "code",
   "execution_count": 12,
   "metadata": {},
   "outputs": [
    {
     "name": "stdout",
     "output_type": "stream",
     "text": [
      "[[[ 0.01869016]\n",
      "  [ 0.0491226 ]\n",
      "  [ 0.08582756]\n",
      "  [ 0.12416886]\n",
      "  [ 0.16030063]]]\n"
     ]
    }
   ],
   "source": [
    "seq_model = Sequential()\n",
    "\n",
    "seq_model.add(LSTM(1, return_sequences=True, input_shape=(5, 1)))\n",
    "\n",
    "seq_model.compile(optimizer='adam', loss='mse')\n",
    "\n",
    "print(seq_model.predict(data))"
   ]
  },
  {
   "cell_type": "markdown",
   "metadata": {},
   "source": [
    "sweet! our ```seq_model``` outputs a 3d array of values, one for each time step, i.e. one per each input value."
   ]
  },
  {
   "cell_type": "markdown",
   "metadata": {},
   "source": [
    "## damped sine wave problem\n",
    "\n",
    "*(sine wave generation & plotting code from jason brownlee's excellent course on LSTMs at machinelearningmastery.com)*\n",
    "\n",
    "a [damped sine wave](https://en.wikipedia.org/wiki/Damped_sine_wave \"damped sine wave\") is a sine wave whose amplitude is gradually decreasing (approaching zero).\n",
    "\n",
    "we'd like to see whether an LSTM trained on an earlier part of the wave can predict the dampening.\n",
    "\n",
    "after all, a sine wave is really just another sequence of values, right?"
   ]
  },
  {
   "cell_type": "code",
   "execution_count": 13,
   "metadata": {},
   "outputs": [],
   "source": [
    "from math import sin\n",
    "from math import pi\n",
    "from matplotlib import pyplot\n",
    "%matplotlib inline"
   ]
  },
  {
   "cell_type": "markdown",
   "metadata": {},
   "source": [
    "here's what a regular sine wave looks like:"
   ]
  },
  {
   "cell_type": "code",
   "execution_count": 14,
   "metadata": {},
   "outputs": [
    {
     "data": {
      "text/plain": [
       "[<matplotlib.lines.Line2D at 0x7f11a729dcc0>]"
      ]
     },
     "execution_count": 14,
     "metadata": {},
     "output_type": "execute_result"
    },
    {
     "data": {
      "image/png": "[encoded data removed]",
      "text/plain": [
       "<matplotlib.figure.Figure at 0x7f11a7585668>"
      ]
     },
     "metadata": {},
     "output_type": "display_data"
    }
   ],
   "source": [
    "# create sine wave sequence\n",
    "\n",
    "length = 100\n",
    "freq = 5\n",
    "seq = [sin(2 * pi * freq * (i/float(length))) for i in range(length)]\n",
    "\n",
    "# plot sequence\n",
    "\n",
    "pyplot.plot(seq)"
   ]
  },
  {
   "cell_type": "markdown",
   "metadata": {},
   "source": [
    "here's a sine wave whose amplitude is gradually approaching zero--a __damped__ sine wave:"
   ]
  },
  {
   "cell_type": "code",
   "execution_count": 15,
   "metadata": {},
   "outputs": [
    {
     "data": {
      "text/plain": [
       "[<matplotlib.lines.Line2D at 0x7f11a71dd7b8>]"
      ]
     },
     "execution_count": 15,
     "metadata": {},
     "output_type": "execute_result"
    },
    {
     "data": {
      "image/png": "[encoded data removed]",
      "text/plain": [
       "<matplotlib.figure.Figure at 0x7f11a727ff60>"
      ]
     },
     "metadata": {},
     "output_type": "display_data"
    }
   ],
   "source": [
    "from math import exp\n",
    "\n",
    "damped_length = 100\n",
    "period = 10\n",
    "decay = 0.05\n",
    "\n",
    "# create sequence\n",
    "\n",
    "damped_seq = [0.5 + 0.5 * sin(2 * pi * i / period) * exp(-decay * i) \n",
    "              for i in range(length)]\n",
    "\n",
    "# plot sequence\n",
    "\n",
    "pyplot.plot(damped_seq)"
   ]
  },
  {
   "cell_type": "markdown",
   "metadata": {},
   "source": [
    "## training data: random damped sine waves\n",
    "\n",
    "using the script above, we can create a function to generate random damped sine wave sequences, which can then be used as training data.\n",
    "\n",
    "#### where the randomness comes from\n",
    "\n",
    "our sequences will be \"random\" (actually [pseudorandom](https://en.wikipedia.org/wiki/Pseudorandomness \"pseudorandom\")) through pseudorandomly selected period and decay. "
   ]
  },
  {
   "cell_type": "code",
   "execution_count": 16,
   "metadata": {},
   "outputs": [],
   "source": [
    "# generate a SINGLE damped sine wave sequence\n",
    "# specifying length (time steps), period, & decay\n",
    "\n",
    "import random\n",
    "\n",
    "def make_sin_seq(time_steps, period, decay):\n",
    "    return [0.5 + 0.5 * sin(2 * pi * i / period) * exp(-decay * i)\n",
    "           for i in range(time_steps)]\n",
    "\n",
    "# integrate make_sin_seq() in a new function\n",
    "# to generate MANY sequences\n",
    "\n",
    "def make_many_seq(n_early_steps, n_patterns, n_later_steps):\n",
    "    \n",
    "    '''\n",
    "    creates damped (exponential decay) sine-shaped \n",
    "    sequences for modeling sequence prediction. \n",
    "    assigns matching pairs of early time steps and \n",
    "    later time steps to X and y respectively, to serve as\n",
    "    training data and targets.\n",
    "    '''\n",
    "    \n",
    "    # places to store sequence chunks\n",
    "    \n",
    "    X, y = list(), list()\n",
    "    \n",
    "    # iterator allows user to specify # of examples\n",
    "    \n",
    "    for _ in range(n_patterns):\n",
    "        \n",
    "        # drawing pseudorandom numbers from appropriate distributions\n",
    "        \n",
    "        period_rndm = random.randint(10, 20)\n",
    "        \n",
    "        decay_rndm = random.uniform(0.01, 0.1)\n",
    "        \n",
    "        rndm_seq = make_sin_seq(n_early_steps + n_later_steps, \n",
    "                                period_rndm, decay_rndm)\n",
    "        \n",
    "        # chop the sequence at the specified point\n",
    "        # assign early time steps to X, later to y\n",
    "        \n",
    "        X.append(rndm_seq[:-n_later_steps])\n",
    "        y.append(rndm_seq[-n_later_steps:])\n",
    "    \n",
    "    # shape output to 3d array for LSTM\n",
    "    \n",
    "    X = array(X).reshape(n_patterns, n_early_steps, 1)\n",
    "    y= array(y).reshape(n_patterns, n_later_steps)\n",
    "    \n",
    "    # return prepared datasets\n",
    "    \n",
    "    return X, y\n",
    "    "
   ]
  },
  {
   "cell_type": "markdown",
   "metadata": {},
   "source": [
    "call the ```make_many_seq``` function and plot results:"
   ]
  },
  {
   "cell_type": "code",
   "execution_count": 17,
   "metadata": {},
   "outputs": [
    {
     "data": {
      "image/png": "[encoded data removed]",
      "text/plain": [
       "<matplotlib.figure.Figure at 0x7f11a7220f98>"
      ]
     },
     "metadata": {},
     "output_type": "display_data"
    }
   ],
   "source": [
    "# call the function\n",
    "\n",
    "X, y = make_many_seq(20, 5, 5)\n",
    "\n",
    "# plot resulting random damped sine sequences\n",
    "\n",
    "for i in range(len(X)):\n",
    "    pyplot.plot([x for x in X[i, :, 0]] + \n",
    "               [x for x in y[i]], '-o')"
   ]
  },
  {
   "cell_type": "markdown",
   "metadata": {},
   "source": [
    "### many-to-one model\n",
    "\n",
    "it may seem counterintuitive to frame this as a many-to-one model, since we're attempting to output a sequence.\n",
    "\n",
    "however, the actual output of the model is a *single vector* of values, which we, in our problem framing, *choose to interpret* as a sequence--in this case, the next few points on the graph of a damped sine wave.\n",
    "\n",
    "because it take a sequence of inputs and returns a single vector of values (albeit one with multiple values), this model follows a many-to-one architecture.\n",
    "\n",
    "## design & compile"
   ]
  },
  {
   "cell_type": "code",
   "execution_count": 19,
   "metadata": {},
   "outputs": [],
   "source": [
    "# imports\n",
    "\n",
    "from keras.models import Sequential\n",
    "from keras.layers import LSTM\n",
    "from keras.layers import Dense"
   ]
  },
  {
   "cell_type": "code",
   "execution_count": 28,
   "metadata": {},
   "outputs": [],
   "source": [
    "# 1) define the problem space\n",
    "# a) what we're feeding the model\n",
    "\n",
    "input_time_steps = 55\n",
    "\n",
    "# b) what we want to the model to return\n",
    "# ie the next 5 time steps in the sequence\n",
    "\n",
    "output_time_steps = 5\n",
    "\n",
    "# 2) define the model\n",
    "\n",
    "stacked_lstm_model = Sequential()\n",
    "\n",
    "# return_sequences=True allows for stacking \n",
    "# another LSTM layer below this one\n",
    "\n",
    "stacked_lstm_model.add(LSTM(20, return_sequences=True, \n",
    "                            input_shape=(input_time_steps, 1)))\n",
    "\n",
    "# second LSTM hidden layer\n",
    "\n",
    "stacked_lstm_model.add(LSTM(20))\n",
    "\n",
    "# dense output layer is shaped for\n",
    "# the output we want/specify\n",
    "\n",
    "stacked_lstm_model.add(Dense(output_time_steps))\n",
    "\n",
    "# 3) compile model\n",
    "# mean absolute error loss function & adam gradient descent optimizer\n",
    "\n",
    "stacked_lstm_model.compile(loss='mae', optimizer='adam')\n"
   ]
  },
  {
   "cell_type": "markdown",
   "metadata": {},
   "source": [
    "### model specs\n",
    "\n",
    "```stacked_lstm_model``` has:\n",
    "\n",
    "* 2 __hidden LSTM layers__ of __20 memory units each__\n",
    "* 1 __fully connected dense layer__\n",
    "* [mean absolute error](https://en.wikipedia.org/wiki/Mean_absolute_error \"mean absolute error\") as its [loss function](https://en.wikipedia.org/wiki/Loss_function \"loss function\")\n",
    "* [adam](https://www.tensorflow.org/api_docs/python/tf/train/AdamOptimizer \"adam optimizer\") [optimizer](http://ruder.io/optimizing-gradient-descent/ \"mathematical optimization\")\n",
    "* __over five thousand__ parameters"
   ]
  },
  {
   "cell_type": "code",
   "execution_count": 29,
   "metadata": {},
   "outputs": [
    {
     "name": "stdout",
     "output_type": "stream",
     "text": [
      "_________________________________________________________________\n",
      "Layer (type)                 Output Shape              Param #   \n",
      "=================================================================\n",
      "lstm_8 (LSTM)                (None, 55, 20)            1760      \n",
      "_________________________________________________________________\n",
      "lstm_9 (LSTM)                (None, 20)                3280      \n",
      "_________________________________________________________________\n",
      "dense_3 (Dense)              (None, 5)                 105       \n",
      "=================================================================\n",
      "Total params: 5,145\n",
      "Trainable params: 5,145\n",
      "Non-trainable params: 0\n",
      "_________________________________________________________________\n",
      "None\n"
     ]
    }
   ],
   "source": [
    "# print the model specs directly\n",
    "\n",
    "specs = stacked_lstm_model.summary()\n",
    "\n",
    "print(specs)"
   ]
  },
  {
   "cell_type": "markdown",
   "metadata": {},
   "source": [
    "## fit the model"
   ]
  },
  {
   "cell_type": "code",
   "execution_count": null,
   "metadata": {},
   "outputs": [],
   "source": []
  }
 ],
 "metadata": {
  "kernelspec": {
   "display_name": "Python 3",
   "language": "python",
   "name": "python3"
  },
  "language_info": {
   "codemirror_mode": {
    "name": "ipython",
    "version": 3
   },
   "file_extension": ".py",
   "mimetype": "text/x-python",
   "name": "python",
   "nbconvert_exporter": "python",
   "pygments_lexer": "ipython3",
   "version": "3.5.3"
  }
 },
 "nbformat": 4,
 "nbformat_minor": 2
}
