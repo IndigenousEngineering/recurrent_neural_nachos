{
 "cells": [
  {
   "cell_type": "markdown",
   "metadata": {},
   "source": [
    "# simple LSTM\n",
    "\n",
    "so basic it runs on pumpkin spice\n",
    "\n",
    "## echo sequence prediction problem\n",
    "\n",
    "### generating data\n",
    "\n",
    "our echo sequence prediction problem needs data: specifically vectors of random sequences. let's use integers, and define our problem space as integers between 0 and 99.\n",
    "\n",
    "we'll use the ```randint()``` function from the python 3 ```random``` [module](https://docs.python.org/3/library/random.html \"python 3 random module docs\") to generate random integers within the range we specify (in this case, 0 to 99). \n",
    "\n",
    "we can use the ```randint()``` function within a function of our own to generate sequences of random integers--this will be the data for our problem."
   ]
  },
  {
   "cell_type": "code",
   "execution_count": 7,
   "metadata": {},
   "outputs": [],
   "source": [
    "# randint() is inside the python random module\n",
    "\n",
    "import random"
   ]
  },
  {
   "cell_type": "code",
   "execution_count": 9,
   "metadata": {},
   "outputs": [
    {
     "data": {
      "text/plain": [
       "60"
      ]
     },
     "execution_count": 9,
     "metadata": {},
     "output_type": "execute_result"
    }
   ],
   "source": [
    "# use randint() to generate a random integer between 0 and 99\n",
    "\n",
    "rand_int = random.randint(0, 99)\n",
    "\n",
    "rand_int"
   ]
  },
  {
   "cell_type": "markdown",
   "metadata": {},
   "source": [
    "we need a _lot_ more than one of these. which means it's time to build a function to automate this for us:"
   ]
  },
  {
   "cell_type": "code",
   "execution_count": 16,
   "metadata": {},
   "outputs": [],
   "source": [
    "def make_seq(seq_length, n_features):\n",
    "    return [random.randint(0, n_features - 1) for _ in range(seq_length)]"
   ]
  },
  {
   "cell_type": "markdown",
   "metadata": {},
   "source": [
    "__demo:__ let's make a sequence with 10 values and 50 features"
   ]
  },
  {
   "cell_type": "code",
   "execution_count": 17,
   "metadata": {},
   "outputs": [
    {
     "data": {
      "text/plain": [
       "[14, 37, 3, 25, 22, 14, 42, 24, 47, 5]"
      ]
     },
     "execution_count": 17,
     "metadata": {},
     "output_type": "execute_result"
    }
   ],
   "source": [
    "make_seq(10, 50)"
   ]
  },
  {
   "cell_type": "markdown",
   "metadata": {},
   "source": [
    "### one hot encoding\n",
    "\n",
    "before we can train the model, we have to encode the data into a format that an LSTM can use. the way we encode data matters; choices made here can significantly affect model performance.\n",
    "\n",
    "to frame this data properly, let's revisit the original problem:\n",
    "\n",
    "we're trying to predict a number. a _specific_ number.\n",
    "\n",
    "if we wanted to _approximate_ the number, we could frame this as a __regression__ problem, and train our model to output a close (but not exact) approximation of the number.\n",
    "\n",
    "but because we want the _exact_ integer (and _not_ an approximation, which is what a regression model outputs) we need to frame this problem as a __classification__ model.\n",
    "\n",
    "__classification__ means handling categorical data, which machines can do handily using __one hot encoding__.\n",
    "\n",
    "### automatic vs manual one hot encoding\n",
    "\n",
    "```scikit-learn``` has a super neat ```OneHotEncoder()``` [transformer](http://scikit-learn.org/stable/modules/generated/sklearn.preprocessing.OneHotEncoder.html \"sklearn OneHotEncoder doc\") that can automate one hot encoding, but because it fits the data, it can only encode the values that it sees represented. \n",
    "\n",
    "we need all possible values--from 0 to 99--represented. it's possible to feed in the categories to ```OneHotEncoder()``` manually. but here we're going to simply make our own transformer."
   ]
  },
  {
   "cell_type": "code",
   "execution_count": null,
   "metadata": {},
   "outputs": [],
   "source": []
  },
  {
   "cell_type": "code",
   "execution_count": null,
   "metadata": {},
   "outputs": [],
   "source": []
  },
  {
   "cell_type": "markdown",
   "metadata": {},
   "source": [
    "## more information\n",
    "\n",
    "##### python 3 random module documentation\n",
    "\n",
    "https://docs.python.org/3/library/random.html"
   ]
  },
  {
   "cell_type": "code",
   "execution_count": null,
   "metadata": {},
   "outputs": [],
   "source": []
  }
 ],
 "metadata": {
  "kernelspec": {
   "display_name": "Python 3",
   "language": "python",
   "name": "python3"
  },
  "language_info": {
   "codemirror_mode": {
    "name": "ipython",
    "version": 3
   },
   "file_extension": ".py",
   "mimetype": "text/x-python",
   "name": "python",
   "nbconvert_exporter": "python",
   "pygments_lexer": "ipython3",
   "version": "3.5.3"
  }
 },
 "nbformat": 4,
 "nbformat_minor": 2
}
